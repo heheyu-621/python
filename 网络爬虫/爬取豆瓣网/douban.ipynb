{
 "cells": [
  {
   "cell_type": "code",
   "execution_count": 1,
   "id": "60080265-a793-41da-8e67-afae82a4799f",
   "metadata": {},
   "outputs": [],
   "source": [
    "import requests \n",
    "from bs4 import BeautifulSoup\n",
    "import pandas as pd"
   ]
  },
  {
   "cell_type": "code",
   "execution_count": 2,
   "id": "9b077adb-13c5-4f0c-aea7-8d41d7dcac14",
   "metadata": {},
   "outputs": [],
   "source": [
    "headers = {              \n",
    "\"User-Agent\":\"Mozilla/5.0 (Windows NT 10.0; Win64; x64) AppleWebKit/537.36 (KHTML, like Gecko) Chrome/124.0.0.0 Safari/537.36 Edg/124.0.0.0\"\n",
    "}"
   ]
  },
  {
   "cell_type": "code",
   "execution_count": 3,
   "id": "790841fb-54cb-4a16-b38a-c25a1151b229",
   "metadata": {},
   "outputs": [],
   "source": [
    "#网址链接\n",
    "url=['https://book.douban.com/subject/35947066/',\n",
    "    'https://book.douban.com/subject/36096287/','https://book.douban.com/subject/36402010/','https://book.douban.com/subject/36145778/',\n",
    "     'https://book.douban.com/subject/36118408/','https://book.douban.com/subject/36402321/','https://book.douban.com/subject/36282861/',\n",
    "     'https://book.douban.com/subject/36402128/','https://book.douban.com/subject/36136693/','https://book.douban.com/subject/36215567/']\n",
    "#图片链接\n",
    "img=['https://img9.doubanio.com/view/subject/s/public/s34390216.jpg',\n",
    "'https://img1.doubanio.com/view/subject/s/public/s34361490.jpg',\n",
    "'https://img9.doubanio.com/view/subject/s/public/s34577686.jpg',\n",
    "'https://img1.doubanio.com/view/subject/s/public/s34378900.jpg',\n",
    "'https://img9.doubanio.com/view/subject/s/public/s34334606.jpg',\n",
    "'https://img9.doubanio.com/view/subject/s/public/s34596845.jpg',\n",
    "'https://img1.doubanio.com/view/subject/s/public/s34507478.jpg',\n",
    "'https://img1.doubanio.com/view/subject/s/public/s34529798.jpg',\n",
    "'https://img1.doubanio.com/view/subject/s/public/s34373629.jpg',\n",
    "'https://img1.doubanio.com/view/subject/s/public/s34486878.jpg']"
   ]
  },
  {
   "cell_type": "code",
   "execution_count": 4,
   "id": "16938384-9a05-4c08-8725-066e119a9508",
   "metadata": {},
   "outputs": [
    {
     "name": "stderr",
     "output_type": "stream",
     "text": [
      "/tmp/ipykernel_5133/1838373062.py:14: DeprecationWarning: The 'text' argument to find()-type methods is deprecated. Use 'string' instead.\n",
      "  author_tag = soup.find('span', class_='pl', text=' 作者')\n",
      "/tmp/ipykernel_5133/1838373062.py:17: DeprecationWarning: The 'text' argument to find()-type methods is deprecated. Use 'string' instead.\n",
      "  press_tag = soup.find('span', class_='pl', text='出版社:')\n"
     ]
    },
    {
     "name": "stdout",
     "output_type": "stream",
     "text": [
      "图片下载成功，文件名为: No.1_同意_8.7.jpg\n"
     ]
    },
    {
     "name": "stderr",
     "output_type": "stream",
     "text": [
      "/tmp/ipykernel_5133/1838373062.py:14: DeprecationWarning: The 'text' argument to find()-type methods is deprecated. Use 'string' instead.\n",
      "  author_tag = soup.find('span', class_='pl', text=' 作者')\n",
      "/tmp/ipykernel_5133/1838373062.py:17: DeprecationWarning: The 'text' argument to find()-type methods is deprecated. Use 'string' instead.\n",
      "  press_tag = soup.find('span', class_='pl', text='出版社:')\n"
     ]
    },
    {
     "name": "stdout",
     "output_type": "stream",
     "text": [
      "图片下载成功，文件名为: No.2_东京八平米_8.4.jpg\n"
     ]
    },
    {
     "name": "stderr",
     "output_type": "stream",
     "text": [
      "/tmp/ipykernel_5133/1838373062.py:14: DeprecationWarning: The 'text' argument to find()-type methods is deprecated. Use 'string' instead.\n",
      "  author_tag = soup.find('span', class_='pl', text=' 作者')\n",
      "/tmp/ipykernel_5133/1838373062.py:17: DeprecationWarning: The 'text' argument to find()-type methods is deprecated. Use 'string' instead.\n",
      "  press_tag = soup.find('span', class_='pl', text='出版社:')\n"
     ]
    },
    {
     "name": "stdout",
     "output_type": "stream",
     "text": [
      "图片下载成功，文件名为: No.3_我是谁？_8.9.jpg\n"
     ]
    },
    {
     "name": "stderr",
     "output_type": "stream",
     "text": [
      "/tmp/ipykernel_5133/1838373062.py:14: DeprecationWarning: The 'text' argument to find()-type methods is deprecated. Use 'string' instead.\n",
      "  author_tag = soup.find('span', class_='pl', text=' 作者')\n",
      "/tmp/ipykernel_5133/1838373062.py:17: DeprecationWarning: The 'text' argument to find()-type methods is deprecated. Use 'string' instead.\n",
      "  press_tag = soup.find('span', class_='pl', text='出版社:')\n"
     ]
    },
    {
     "name": "stdout",
     "output_type": "stream",
     "text": [
      "图片下载成功，文件名为: No.4_复调_8.9.jpg\n"
     ]
    },
    {
     "name": "stderr",
     "output_type": "stream",
     "text": [
      "/tmp/ipykernel_5133/1838373062.py:14: DeprecationWarning: The 'text' argument to find()-type methods is deprecated. Use 'string' instead.\n",
      "  author_tag = soup.find('span', class_='pl', text=' 作者')\n",
      "/tmp/ipykernel_5133/1838373062.py:17: DeprecationWarning: The 'text' argument to find()-type methods is deprecated. Use 'string' instead.\n",
      "  press_tag = soup.find('span', class_='pl', text='出版社:')\n"
     ]
    },
    {
     "name": "stdout",
     "output_type": "stream",
     "text": [
      "图片下载成功，文件名为: No.5_终了之前_8.9.jpg\n"
     ]
    },
    {
     "name": "stderr",
     "output_type": "stream",
     "text": [
      "/tmp/ipykernel_5133/1838373062.py:14: DeprecationWarning: The 'text' argument to find()-type methods is deprecated. Use 'string' instead.\n",
      "  author_tag = soup.find('span', class_='pl', text=' 作者')\n",
      "/tmp/ipykernel_5133/1838373062.py:17: DeprecationWarning: The 'text' argument to find()-type methods is deprecated. Use 'string' instead.\n",
      "  press_tag = soup.find('span', class_='pl', text='出版社:')\n"
     ]
    },
    {
     "name": "stdout",
     "output_type": "stream",
     "text": [
      "图片下载成功，文件名为: No.6_写作是一把刀_8.8.jpg\n"
     ]
    },
    {
     "name": "stderr",
     "output_type": "stream",
     "text": [
      "/tmp/ipykernel_5133/1838373062.py:14: DeprecationWarning: The 'text' argument to find()-type methods is deprecated. Use 'string' instead.\n",
      "  author_tag = soup.find('span', class_='pl', text=' 作者')\n",
      "/tmp/ipykernel_5133/1838373062.py:17: DeprecationWarning: The 'text' argument to find()-type methods is deprecated. Use 'string' instead.\n",
      "  press_tag = soup.find('span', class_='pl', text='出版社:')\n"
     ]
    },
    {
     "name": "stdout",
     "output_type": "stream",
     "text": [
      "图片下载成功，文件名为: No.7_黑塞书信集_9.1.jpg\n"
     ]
    },
    {
     "name": "stderr",
     "output_type": "stream",
     "text": [
      "/tmp/ipykernel_5133/1838373062.py:14: DeprecationWarning: The 'text' argument to find()-type methods is deprecated. Use 'string' instead.\n",
      "  author_tag = soup.find('span', class_='pl', text=' 作者')\n",
      "/tmp/ipykernel_5133/1838373062.py:17: DeprecationWarning: The 'text' argument to find()-type methods is deprecated. Use 'string' instead.\n",
      "  press_tag = soup.find('span', class_='pl', text='出版社:')\n"
     ]
    },
    {
     "name": "stdout",
     "output_type": "stream",
     "text": [
      "图片下载成功，文件名为: No.8_生活的代价_8.6.jpg\n"
     ]
    },
    {
     "name": "stderr",
     "output_type": "stream",
     "text": [
      "/tmp/ipykernel_5133/1838373062.py:14: DeprecationWarning: The 'text' argument to find()-type methods is deprecated. Use 'string' instead.\n",
      "  author_tag = soup.find('span', class_='pl', text=' 作者')\n",
      "/tmp/ipykernel_5133/1838373062.py:17: DeprecationWarning: The 'text' argument to find()-type methods is deprecated. Use 'string' instead.\n",
      "  press_tag = soup.find('span', class_='pl', text='出版社:')\n"
     ]
    },
    {
     "name": "stdout",
     "output_type": "stream",
     "text": [
      "图片下载成功，文件名为: No.9_妈妈走后_8.2.jpg\n"
     ]
    },
    {
     "name": "stderr",
     "output_type": "stream",
     "text": [
      "/tmp/ipykernel_5133/1838373062.py:14: DeprecationWarning: The 'text' argument to find()-type methods is deprecated. Use 'string' instead.\n",
      "  author_tag = soup.find('span', class_='pl', text=' 作者')\n",
      "/tmp/ipykernel_5133/1838373062.py:17: DeprecationWarning: The 'text' argument to find()-type methods is deprecated. Use 'string' instead.\n",
      "  press_tag = soup.find('span', class_='pl', text='出版社:')\n"
     ]
    },
    {
     "name": "stdout",
     "output_type": "stream",
     "text": [
      "图片下载成功，文件名为: No.10_我以文字为业_8.6.jpg\n"
     ]
    }
   ],
   "source": [
    "# 创建空的DataFrame\n",
    "df = pd.DataFrame(columns=['书名', '排名', '豆瓣评分', '作者', '出版社'])\n",
    "\n",
    "for book_url, book_img_url in zip(url, img):\n",
    "    response = requests.get(book_url, headers=headers)\n",
    "    soup = BeautifulSoup(response.text, 'html.parser')\n",
    "\n",
    "    title_tag = soup.find('span', property='v:itemreviewed')\n",
    "    title = title_tag.text.strip() if title_tag else \"N/A\"\n",
    "\n",
    "    rank_tag = soup.select_one('span.rank-label-no > span')\n",
    "    rank = rank_tag.text.strip() if rank_tag else \"N/A\"\n",
    "\n",
    "    author_tag = soup.find('span', class_='pl', text=' 作者')\n",
    "    author = author_tag.find_next('a').text if author_tag else \"出版社信息未找到\"\n",
    "\n",
    "    press_tag = soup.find('span', class_='pl', text='出版社:')\n",
    "    press = press_tag.find_next('a').text if press_tag else \"出版社信息未找到\"\n",
    "\n",
    "    rating_tag = soup.find('strong', class_='ll rating_num', property='v:average')\n",
    "    rating = rating_tag.text.strip() if rating_tag else \"N/A\"\n",
    "\n",
    "    # 将提取的信息添加为新的行\n",
    "    df = df._append({'书名': title, '排名': rank, '豆瓣评分': rating, '作者': author, '出版社': press}, ignore_index=True)\n",
    "\n",
    "    img_name = f\"{rank}_{title}_{rating}.jpg\"\n",
    "    img_data = requests.get(book_img_url).content\n",
    "    with open(img_name, 'wb') as img_file:\n",
    "        img_file.write(img_data)\n",
    "        print(f\"图片下载成功，文件名为: {img_name}\")\n",
    "\n",
    "# 将DataFrame写入CSV文件\n",
    "df.to_csv('books_info.csv', index=False)"
   ]
  },
  {
   "cell_type": "code",
   "execution_count": 5,
   "id": "dcc2cd6e-9efb-413c-9c26-8622b9156918",
   "metadata": {},
   "outputs": [
    {
     "name": "stdout",
     "output_type": "stream",
     "text": [
      "       书名     排名  豆瓣评分             作者       出版社\n",
      "6   黑塞书信集   No.7   9.1      [德]赫尔曼·黑塞   上海人民出版社\n",
      "2    我是谁？   No.3   8.9         [美]段义孚   上海书店出版社\n",
      "3      复调   No.4   8.9   [美] 菲利普·肯尼科特  北京联合出版公司\n",
      "4    终了之前   No.5   8.9  [阿根廷]埃内斯托·萨瓦托   四川文艺出版社\n",
      "5  写作是一把刀   No.6   8.8      [法]安妮·埃尔诺   上海人民出版社\n",
      "0      同意   No.1   8.7  [法] 瓦内莎·斯普林格拉     文汇出版社\n",
      "7   生活的代价   No.8   8.6      [英]德博拉·利维   湖南文艺出版社\n",
      "9  我以文字为业  No.10   8.6    [美] 厄休拉·勒古恩   河南文艺出版社\n",
      "1   东京八平米   No.2   8.4         [日]吉井忍    上海三联书店\n",
      "8    妈妈走后   No.9   8.2      [美]米歇尔·佐纳  北京联合出版公司\n"
     ]
    }
   ],
   "source": [
    "import pandas as pd\n",
    "\n",
    "# 读取CSV文件\n",
    "df = pd.read_csv('books_info.csv')\n",
    "\n",
    "# 按豆瓣评分进行降序排序\n",
    "df_sorted = df.sort_values(by='豆瓣评分', ascending=False)\n",
    "\n",
    "# 打印排序后的DataFrame\n",
    "print(df_sorted)"
   ]
  }
 ],
 "metadata": {
  "kernelspec": {
   "display_name": "Python 3 (ipykernel)",
   "language": "python",
   "name": "python3"
  },
  "language_info": {
   "codemirror_mode": {
    "name": "ipython",
    "version": 3
   },
   "file_extension": ".py",
   "mimetype": "text/x-python",
   "name": "python",
   "nbconvert_exporter": "python",
   "pygments_lexer": "ipython3",
   "version": "3.11.7"
  }
 },
 "nbformat": 4,
 "nbformat_minor": 5
}
