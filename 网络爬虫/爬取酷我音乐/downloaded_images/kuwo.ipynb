{
 "cells": [
  {
   "cell_type": "code",
   "execution_count": 10,
   "id": "c639ee54-ff78-494c-8de4-eb594cddea8c",
   "metadata": {},
   "outputs": [],
   "source": [
    "import requests\n",
    "from bs4 import BeautifulSoup\n",
    "import pandas as pd\n",
    "from lxml import etree\n",
    "#引入库"
   ]
  },
  {
   "cell_type": "code",
   "execution_count": 11,
   "id": "d394fbec-8c6a-4e70-95a9-8cd62cef3925",
   "metadata": {},
   "outputs": [],
   "source": [
    "headers = {'Cookie':'_ga=GA1.2.1303583384.1715588595; gid=01cb16a5-a735-4e84-b271-93315e09f70d; Hm_lvt_cdb524f42f0ce19b169a8071123a4797=1715835953,1716113455,1716208107,1716464026; Hm_lpvt_cdb524f42f0ce19b169a8071123a4797=1716464026; _gid=GA1.2.2120450111.1716464026; _gat=1; _ga_ETPBRPM9ML=GS1.2.1716464026.6.0.1716464026.60.0.0; Hm_Iuvt_cdb524f42f23cer9b268564v7y735ewrq2324=Z2xRAkc3ybFsdHTMwxD6nH4KzjZ6yaWc',\n",
    "'Host':\n",
    "'www.kuwo.cn',\n",
    "'Referer':\n",
    "'https://www.kuwo.cn/rankList',\n",
    "'Sec-Ch-Ua':\n",
    "'\"Microsoft Edge\";v=\"125\", \"Chromium\";v=\"125\", \"Not.A/Brand\";v=\"24\"',\n",
    "'Sec-Ch-Ua-Mobile':\n",
    "'?0',\n",
    "'Sec-Ch-Ua-Platform':\n",
    "'\"Windows\"',\n",
    "'Sec-Fetch-Dest':\n",
    "'empty',\n",
    "'Sec-Fetch-Mode':\n",
    "'cors',\n",
    "'Sec-Fetch-Site':\n",
    "'same-origin',\n",
    "'Secret':\n",
    "'7962f3f0504c0b18a747e6e22ff2e5607fb7b5e159b2a84c73ea21afffe732ef03609120',              \n",
    "\"User-Agent\":\"Mozilla/5.0 (Windows NT 10.0; Win64; x64) AppleWebKit/537.36 (KHTML, like Gecko) Chrome/124.0.0.0 Safari/537.36 Edg/124.0.0.0\"\n",
    "}\n",
    "#获取请求头信息"
   ]
  },
  {
   "cell_type": "code",
   "execution_count": 12,
   "id": "4efff302-3002-4c82-9fc3-be9fae4ca3fb",
   "metadata": {},
   "outputs": [],
   "source": [
    "url='https://www.kuwo.cn/api/www/bang/bang/musicList?bangId=17&pn=1&rn=20&httpsStatus=1&reqId=84ba3860-341c-11ef-987e-0bffb7435a9d&plat=web_www&from='\n",
    "#url信息"
   ]
  },
  {
   "cell_type": "code",
   "execution_count": 13,
   "id": "9fd69912-d0c2-4fd7-a5b2-0b3e031ed42b",
   "metadata": {},
   "outputs": [
    {
     "name": "stdout",
     "output_type": "stream",
     "text": [
      "{'code': 200, 'curTime': 1719448164185, 'data': {'img': 'https://img1.kuwo.cn/star/upload/10/10/1539055146154_.png', 'num': '300', 'pub': '2024-06-27', 'musicList': [{'musicrid': 'MUSIC_386095283', 'barrage': '0', 'ad_type': '', 'artist': '崔伟立', 'mvpayinfo': {'play': 0, 'vid': 0, 'down': 0}, 'trend': 'u0', 'pic': 'https://img3.kuwo.cn/star/albumcover/500/s3s40/96/2283236711.jpg', 'isstar': 0, 'rid': 386095283, 'duration': 193, 'score100': '0', 'ad_subtype': '0', 'content_type': '0', 'rank_change': '4', 'track': 7, 'hasLossless': True, 'hasmv': 0, 'releaseDate': '2023-11-17', 'album': '战马', 'albumid': 43777822, 'pay': '16515324', 'artistid': 274133, 'albumpic': 'https://img3.kuwo.cn/star/albumcover/500/s3s40/96/2283236711.jpg', 'originalsongtype': 0, 'songTimeMinutes': '03:13', 'isListenFee': False, 'pic120': 'https://img3.kuwo.cn/star/albumcover/120/s3s40/96/2283236711.jpg', 'name': '战马(DJ九零版)', 'online': 1, 'payInfo': {'play': '1100', 'nplay': '001111111111', 'overseas_nplay': '0', 'local_encrypt': '1', 'limitfree': 0, 'refrain_start': 0, 'feeType': {'song': '1', 'vip': '1'}, 'down': '1111', 'ndown': '111111111111', 'download': '1111', 'cannotDownload': 0, 'overseas_ndown': '0', 'refrain_end': 0, 'cannotOnlinePlay': 0, 'paytagindex': {'S': 2, 'F': 3, 'ZP': 6, 'H': 1, 'ZPGA201': 9, 'ZPLY': 11, 'HR': 4, 'L': 0, 'ZPGA501': 10, 'DB': 7, 'AR501': 8}}, 'tme_musician_adtype': '0'}, {'musicrid': 'MUSIC_385785803', 'barrage': '0', 'ad_type': '', 'artist': '张靓颖', 'mvpayinfo': {'play': 0, 'vid': 0, 'down': 0}, 'trend': 'u0', 'pic': 'https://img3.kuwo.cn/star/albumcover/500/s3s44/32/1266535478.jpg', 'isstar': 0, 'rid': 385785803, 'duration': 194, 'score100': '0', 'ad_subtype': '0', 'content_type': '0', 'rank_change': '4', 'track': 1, 'hasLossless': True, 'hasmv': 0, 'releaseDate': '2024-06-22', 'album': '云边有个小卖部', 'albumid': 54325778, 'pay': '16515324', 'artistid': 211, 'albumpic': 'https://img3.kuwo.cn/star/albumcover/500/s3s44/32/1266535478.jpg', 'originalsongtype': 1, 'songTimeMinutes': '03:14', 'isListenFee': False, 'pic120': 'https://img3.kuwo.cn/star/albumcover/120/s3s44/32/1266535478.jpg', 'name': '云边有个小卖部', 'online': 1, 'payInfo': {'play': '1100', 'nplay': '001111111111', 'overseas_nplay': '0', 'local_encrypt': '1', 'limitfree': 0, 'refrain_start': 0, 'feeType': {'song': '1', 'vip': '1'}, 'down': '1111', 'ndown': '111111111111', 'download': '1111', 'cannotDownload': 0, 'overseas_ndown': '0', 'refrain_end': 0, 'cannotOnlinePlay': 0, 'paytagindex': {'S': 2, 'F': 3, 'ZP': 6, 'H': 1, 'ZPGA201': 9, 'ZPLY': 11, 'HR': 4, 'L': 0, 'ZPGA501': 10, 'DB': 7, 'AR501': 8}}, 'tme_musician_adtype': '0'}, {'musicrid': 'MUSIC_386095250', 'barrage': '0', 'ad_type': '', 'artist': '刘亦辰', 'mvpayinfo': {'play': 0, 'vid': 0, 'down': 0}, 'trend': 'u0', 'pic': 'https://img3.kuwo.cn/star/albumcover/500/s3s45/14/3306542321.jpg', 'isstar': 0, 'rid': 386095250, 'duration': 194, 'score100': '0', 'ad_subtype': '0', 'content_type': '0', 'rank_change': '5', 'track': 3, 'hasLossless': True, 'hasmv': 0, 'releaseDate': '2024-05-30', 'album': '做自己的光，不需要太亮', 'albumid': 53173634, 'pay': '16515324', 'artistid': 289495, 'albumpic': 'https://img3.kuwo.cn/star/albumcover/500/s3s45/14/3306542321.jpg', 'originalsongtype': 0, 'songTimeMinutes': '03:14', 'isListenFee': False, 'pic120': 'https://img3.kuwo.cn/star/albumcover/120/s3s45/14/3306542321.jpg', 'name': '做自己的光，不需要太亮(DJ九零版)', 'online': 1, 'payInfo': {'play': '1100', 'nplay': '001111111111', 'overseas_nplay': '0', 'local_encrypt': '1', 'limitfree': 0, 'refrain_start': 0, 'feeType': {'song': '1', 'vip': '1'}, 'down': '1111', 'ndown': '111111111111', 'download': '1111', 'cannotDownload': 0, 'overseas_ndown': '0', 'refrain_end': 0, 'cannotOnlinePlay': 0, 'paytagindex': {'S': 2, 'F': 3, 'ZP': 6, 'H': 1, 'ZPGA201': 9, 'ZPLY': 11, 'HR': 4, 'L': 0, 'ZPGA501': 10, 'DB': 7, 'AR501': 8}}, 'tme_musician_adtype': '0'}, {'musicrid': 'MUSIC_386572049', 'barrage': '0', 'ad_type': '', 'artist': '李耀阳', 'mvpayinfo': {'play': 0, 'vid': 0, 'down': 0}, 'trend': 'd0', 'pic': 'https://img1.kuwo.cn/star/albumcover/500/s3s72/40/865906721.jpg', 'isstar': 0, 'rid': 386572049, 'duration': 230, 'score100': '0', 'ad_subtype': '0', 'content_type': '0', 'rank_change': '3', 'track': 1, 'hasLossless': True, 'hasmv': 0, 'releaseDate': '2024-06-21', 'album': '人间半途', 'albumid': 54480596, 'pay': '16711935', 'artistid': 490799, 'albumpic': 'https://img1.kuwo.cn/star/albumcover/500/s3s72/40/865906721.jpg', 'originalsongtype': 0, 'songTimeMinutes': '03:50', 'isListenFee': True, 'pic120': 'https://img1.kuwo.cn/star/albumcover/120/s3s72/40/865906721.jpg', 'name': '人间半途', 'online': 1, 'payInfo': {'play': '1111', 'nplay': '111111111111', 'overseas_nplay': '0', 'local_encrypt': '1', 'limitfree': 0, 'refrain_start': 0, 'feeType': {'song': '1', 'vip': '1'}, 'down': '1111', 'ndown': '111111111111', 'download': '1111', 'cannotDownload': 0, 'overseas_ndown': '0', 'listen_fragment': '1', 'refrain_end': 0, 'cannotOnlinePlay': 0, 'paytagindex': {'S': 2, 'F': 3, 'ZP': 6, 'H': 1, 'ZPGA201': 9, 'ZPLY': 11, 'HR': 4, 'L': 0, 'ZPGA501': 10, 'DB': 7, 'AR501': 8}}, 'tme_musician_adtype': '0'}, {'musicrid': 'MUSIC_386688472', 'barrage': '0', 'ad_type': '', 'artist': '张远', 'mvpayinfo': {'play': 0, 'vid': 0, 'down': 0}, 'trend': 'd0', 'pic': 'https://img2.kuwo.cn/star/albumcover/500/s3s88/76/2993208658.png', 'isstar': 0, 'rid': 386688472, 'duration': 291, 'score100': '0', 'ad_subtype': '0', 'content_type': '0', 'rank_change': '3', 'track': 3, 'hasLossless': True, 'hasmv': 0, 'releaseDate': '2024-06-22', 'album': '歌手2024 第7期', 'albumid': 54502037, 'pay': '16515324', 'artistid': 26, 'albumpic': 'https://img2.kuwo.cn/star/albumcover/500/s3s88/76/2993208658.png', 'originalsongtype': 0, 'songTimeMinutes': '04:51', 'isListenFee': False, 'pic120': 'https://img2.kuwo.cn/star/albumcover/120/s3s88/76/2993208658.png', 'name': '说谎(Live)', 'online': 1, 'payInfo': {'play': '1100', 'nplay': '001111111111', 'overseas_nplay': '0', 'local_encrypt': '1', 'limitfree': 0, 'refrain_start': 0, 'feeType': {'song': '1', 'vip': '1'}, 'down': '1111', 'ndown': '111111111111', 'download': '1111', 'cannotDownload': 0, 'overseas_ndown': '0', 'refrain_end': 0, 'cannotOnlinePlay': 0, 'paytagindex': {'S': 2, 'F': 3, 'ZP': 6, 'H': 1, 'ZPGA201': 9, 'ZPLY': 11, 'HR': 4, 'L': 0, 'ZPGA501': 10, 'DB': 7, 'AR501': 8}}, 'tme_musician_adtype': '0'}, {'musicrid': 'MUSIC_386101746', 'barrage': '0', 'ad_type': '', 'artist': '半吨兄弟', 'mvpayinfo': {'play': 0, 'vid': 0, 'down': 0}, 'trend': 'd0', 'pic': 'https://img1.kuwo.cn/star/albumcover/500/s3s79/28/1566416117.jpg', 'isstar': 0, 'rid': 386101746, 'duration': 251, 'score100': '0', 'ad_subtype': '0', 'content_type': '0', 'rank_change': '3', 'track': 1, 'hasLossless': True, 'hasmv': 0, 'releaseDate': '2024-06-21', 'album': '我会好好的', 'albumid': 54391436, 'pay': '16515324', 'artistid': 3670041, 'albumpic': 'https://img1.kuwo.cn/star/albumcover/500/s3s79/28/1566416117.jpg', 'originalsongtype': 0, 'songTimeMinutes': '04:11', 'isListenFee': False, 'pic120': 'https://img1.kuwo.cn/star/albumcover/120/s3s79/28/1566416117.jpg', 'name': '我会好好的', 'online': 1, 'payInfo': {'play': '1100', 'nplay': '001111111111', 'overseas_nplay': '0', 'local_encrypt': '1', 'limitfree': 0, 'refrain_start': 0, 'feeType': {'song': '1', 'vip': '1'}, 'down': '1111', 'ndown': '111111111111', 'download': '1111', 'cannotDownload': 0, 'overseas_ndown': '0', 'refrain_end': 0, 'cannotOnlinePlay': 0, 'paytagindex': {'S': 2, 'F': 3, 'ZP': 6, 'H': 1, 'ZPGA201': 9, 'ZPLY': 11, 'HR': 4, 'L': 0, 'ZPGA501': 10, 'DB': 7, 'AR501': 8}}, 'tme_musician_adtype': '0'}, {'musicrid': 'MUSIC_386690661', 'barrage': '0', 'ad_type': '', 'artist': '汪苏泷', 'mvpayinfo': {'play': 0, 'vid': 0, 'down': 0}, 'trend': 'd0', 'pic': 'https://img2.kuwo.cn/star/albumcover/500/s3s88/76/2993208658.png', 'isstar': 0, 'rid': 386690661, 'duration': 280, 'score100': '0', 'ad_subtype': '0', 'content_type': '0', 'rank_change': '3', 'track': 8, 'hasLossless': True, 'hasmv': 0, 'releaseDate': '2024-06-22', 'album': '歌手2024 第7期', 'albumid': 54502037, 'pay': '16515324', 'artistid': 5357, 'albumpic': 'https://img2.kuwo.cn/star/albumcover/500/s3s88/76/2993208658.png', 'originalsongtype': 0, 'songTimeMinutes': '04:40', 'isListenFee': False, 'pic120': 'https://img2.kuwo.cn/star/albumcover/120/s3s88/76/2993208658.png', 'name': '傻瓜(Live)', 'online': 1, 'payInfo': {'play': '1100', 'nplay': '001111111111', 'overseas_nplay': '0', 'local_encrypt': '1', 'limitfree': 0, 'refrain_start': 0, 'feeType': {'song': '1', 'vip': '1'}, 'down': '1111', 'ndown': '111111111111', 'download': '1111', 'cannotDownload': 0, 'overseas_ndown': '0', 'refrain_end': 0, 'cannotOnlinePlay': 0, 'paytagindex': {'S': 2, 'F': 3, 'ZP': 6, 'H': 1, 'ZPGA201': 9, 'ZPLY': 11, 'HR': 4, 'L': 0, 'ZPGA501': 10, 'DB': 7, 'AR501': 8}}, 'tme_musician_adtype': '0'}, {'musicrid': 'MUSIC_385507438', 'barrage': '0', 'ad_type': '', 'artist': 'Beyond', 'mvpayinfo': {'play': 0, 'vid': 0, 'down': 0}, 'trend': 'u0', 'pic': 'https://img3.kuwo.cn/star/albumcover/500/s3s16/25/1317624968.jpg', 'isstar': 0, 'rid': 385507438, 'duration': 291, 'score100': '0', 'ad_subtype': '0', 'content_type': '0', 'rank_change': '2', 'track': 43, 'hasLossless': True, 'hasmv': 0, 'releaseDate': '2024-06-21', 'album': '繁花 The Original Music & Soundtrack of Blossoms Shanghai', 'albumid': 54261010, 'pay': '16515324', 'artistid': 1250, 'albumpic': 'https://img3.kuwo.cn/star/albumcover/500/s3s16/25/1317624968.jpg', 'originalsongtype': 0, 'songTimeMinutes': '04:51', 'isListenFee': False, 'pic120': 'https://img3.kuwo.cn/star/albumcover/120/s3s16/25/1317624968.jpg', 'name': '光辉岁月', 'online': 1, 'payInfo': {'play': '1100', 'nplay': '001111111111', 'overseas_nplay': '0', 'local_encrypt': '1', 'limitfree': 0, 'refrain_start': 0, 'feeType': {'song': '1', 'vip': '1'}, 'down': '1111', 'ndown': '111111111111', 'download': '1111', 'cannotDownload': 0, 'overseas_ndown': '0', 'refrain_end': 0, 'cannotOnlinePlay': 0, 'paytagindex': {'S': 2, 'F': 3, 'ZP': 6, 'H': 1, 'ZPGA201': 9, 'ZPLY': 11, 'HR': 4, 'L': 0, 'ZPGA501': 10, 'DB': 7, 'AR501': 8}}, 'tme_musician_adtype': '0'}, {'musicrid': 'MUSIC_385507242', 'barrage': '0', 'ad_type': '', 'artist': '张学友', 'mvpayinfo': {'play': 0, 'vid': 0, 'down': 0}, 'trend': 'u0', 'pic': 'https://img3.kuwo.cn/star/albumcover/500/s3s16/25/1317624968.jpg', 'isstar': 0, 'rid': 385507242, 'duration': 254, 'score100': '0', 'ad_subtype': '0', 'content_type': '0', 'rank_change': '2', 'track': 31, 'hasLossless': True, 'hasmv': 0, 'releaseDate': '2024-06-21', 'album': '繁花 The Original Music & Soundtrack of Blossoms Shanghai', 'albumid': 54261010, 'pay': '16515324', 'artistid': 896, 'albumpic': 'https://img3.kuwo.cn/star/albumcover/500/s3s16/25/1317624968.jpg', 'originalsongtype': 0, 'songTimeMinutes': '04:14', 'isListenFee': False, 'pic120': 'https://img3.kuwo.cn/star/albumcover/120/s3s16/25/1317624968.jpg', 'name': '偷心', 'online': 1, 'payInfo': {'play': '1100', 'nplay': '001111111111', 'overseas_nplay': '0', 'local_encrypt': '1', 'limitfree': 0, 'refrain_start': 0, 'feeType': {'song': '1', 'vip': '1'}, 'down': '1111', 'ndown': '111111111111', 'download': '1111', 'cannotDownload': 0, 'overseas_ndown': '0', 'refrain_end': 0, 'cannotOnlinePlay': 0, 'paytagindex': {'S': 2, 'F': 3, 'ZP': 6, 'H': 1, 'ZPGA201': 9, 'ZPLY': 11, 'HR': 4, 'L': 0, 'ZPGA501': 10, 'DB': 7, 'AR501': 8}}, 'tme_musician_adtype': '0'}, {'musicrid': 'MUSIC_385507275', 'barrage': '0', 'ad_type': '', 'artist': 'Beyond', 'mvpayinfo': {'play': 0, 'vid': 0, 'down': 0}, 'trend': 'u0', 'pic': 'https://img3.kuwo.cn/star/albumcover/500/s3s16/25/1317624968.jpg', 'isstar': 0, 'rid': 385507275, 'duration': 236, 'score100': '0', 'ad_subtype': '0', 'content_type': '0', 'rank_change': '3', 'track': 50, 'hasLossless': True, 'hasmv': 0, 'releaseDate': '2024-06-21', 'album': '繁花 The Original Music & Soundtrack of Blossoms Shanghai', 'albumid': 54261010, 'pay': '16515324', 'artistid': 1250, 'albumpic': 'https://img3.kuwo.cn/star/albumcover/500/s3s16/25/1317624968.jpg', 'originalsongtype': 0, 'songTimeMinutes': '03:56', 'isListenFee': False, 'pic120': 'https://img3.kuwo.cn/star/albumcover/120/s3s16/25/1317624968.jpg', 'name': '不再犹豫', 'online': 1, 'payInfo': {'play': '1100', 'nplay': '001111111111', 'overseas_nplay': '0', 'local_encrypt': '1', 'limitfree': 0, 'refrain_start': 0, 'feeType': {'song': '1', 'vip': '1'}, 'down': '1111', 'ndown': '111111111111', 'download': '1111', 'cannotDownload': 0, 'overseas_ndown': '0', 'refrain_end': 0, 'cannotOnlinePlay': 0, 'paytagindex': {'S': 2, 'F': 3, 'ZP': 6, 'H': 1, 'ZPGA201': 9, 'ZPLY': 11, 'HR': 4, 'L': 0, 'ZPGA501': 10, 'DB': 7, 'AR501': 8}}, 'tme_musician_adtype': '0'}, {'musicrid': 'MUSIC_385452636', 'barrage': '0', 'ad_type': '', 'artist': '马嘉祺', 'mvpayinfo': {'play': 0, 'vid': 17645381, 'down': 0}, 'trend': 'u0', 'pic': 'https://img3.kuwo.cn/star/albumcover/500/s3s40/95/947440096.jpg', 'isstar': 0, 'rid': 385452636, 'duration': 262, 'score100': '0', 'ad_subtype': '0', 'content_type': '0', 'rank_change': '1', 'track': 1, 'hasLossless': True, 'hasmv': 1, 'releaseDate': '2024-06-17', 'album': '蜉蝣', 'albumid': 54249842, 'pay': '16515324', 'artistid': 997213, 'albumpic': 'https://img3.kuwo.cn/star/albumcover/500/s3s40/95/947440096.jpg', 'originalsongtype': 0, 'songTimeMinutes': '04:22', 'isListenFee': False, 'pic120': 'https://img3.kuwo.cn/star/albumcover/120/s3s40/95/947440096.jpg', 'name': '蜉蝣', 'online': 1, 'payInfo': {'play': '1100', 'nplay': '001111111111', 'overseas_nplay': '0', 'local_encrypt': '1', 'limitfree': 1, 'refrain_start': 0, 'feeType': {'song': '1', 'vip': '1'}, 'down': '1111', 'ndown': '111111111111', 'download': '1111', 'cannotDownload': 0, 'overseas_ndown': '0', 'refrain_end': 0, 'cannotOnlinePlay': 0, 'paytagindex': {'S': 2, 'F': 3, 'ZP': 6, 'H': 1, 'ZPGA201': 9, 'ZPLY': 11, 'HR': 4, 'L': 0, 'ZPGA501': 10, 'DB': 7, 'AR501': 8}}, 'tme_musician_adtype': '0'}, {'musicrid': 'MUSIC_386316849', 'barrage': '0', 'ad_type': '', 'artist': '半吨兄弟', 'mvpayinfo': {'play': 0, 'vid': 0, 'down': 0}, 'trend': 'u0', 'pic': 'https://img1.kuwo.cn/star/albumcover/500/s3s87/81/1863402703.png', 'isstar': 0, 'rid': 386316849, 'duration': 224, 'score100': '0', 'ad_subtype': '0', 'content_type': '0', 'rank_change': '9', 'track': 1, 'hasLossless': True, 'hasmv': 0, 'releaseDate': '2024-06-21', 'album': '何物 (我白天是个搞笑废物)', 'albumid': 54430680, 'pay': '16515324', 'artistid': 3670041, 'albumpic': 'https://img1.kuwo.cn/star/albumcover/500/s3s87/81/1863402703.png', 'originalsongtype': 0, 'songTimeMinutes': '03:44', 'isListenFee': False, 'pic120': 'https://img1.kuwo.cn/star/albumcover/120/s3s87/81/1863402703.png', 'name': '何物 (我白天是个搞笑废物)', 'online': 1, 'payInfo': {'play': '1100', 'nplay': '001111111111', 'overseas_nplay': '0', 'local_encrypt': '1', 'limitfree': 0, 'refrain_start': 0, 'feeType': {'song': '1', 'vip': '1'}, 'down': '1111', 'ndown': '111111111111', 'download': '1111', 'cannotDownload': 0, 'overseas_ndown': '0', 'refrain_end': 0, 'cannotOnlinePlay': 0, 'paytagindex': {'S': 2, 'F': 3, 'ZP': 6, 'H': 1, 'ZPGA201': 9, 'ZPLY': 11, 'HR': 4, 'L': 0, 'ZPGA501': 10, 'DB': 7, 'AR501': 8}}, 'tme_musician_adtype': '0'}, {'musicrid': 'MUSIC_386082543', 'barrage': '0', 'ad_type': '', 'artist': '黄静美', 'mvpayinfo': {'play': 0, 'vid': 0, 'down': 0}, 'trend': 'u0', 'pic': 'https://img1.kuwo.cn/star/albumcover/500/s3s33/76/3211004528.jpg', 'isstar': 0, 'rid': 386082543, 'duration': 160, 'score100': '0', 'ad_subtype': '0', 'content_type': '0', 'rank_change': '2', 'track': 1, 'hasLossless': True, 'hasmv': 0, 'releaseDate': '2024-06-22', 'album': '关于我你只字不提', 'albumid': 54387052, 'pay': '16515324', 'artistid': 3652009, 'albumpic': 'https://img1.kuwo.cn/star/albumcover/500/s3s33/76/3211004528.jpg', 'originalsongtype': 1, 'songTimeMinutes': '02:40', 'isListenFee': False, 'pic120': 'https://img1.kuwo.cn/star/albumcover/120/s3s33/76/3211004528.jpg', 'name': '关于我你只字不提', 'online': 1, 'payInfo': {'play': '1100', 'nplay': '001111111111', 'overseas_nplay': '0', 'local_encrypt': '1', 'limitfree': 0, 'refrain_start': 0, 'feeType': {'song': '1', 'vip': '1'}, 'down': '1111', 'ndown': '111111111111', 'download': '1111', 'cannotDownload': 0, 'overseas_ndown': '0', 'refrain_end': 0, 'cannotOnlinePlay': 0, 'paytagindex': {'S': 2, 'F': 3, 'ZP': 6, 'H': 1, 'ZPGA201': 9, 'ZPLY': 11, 'HR': 4, 'L': 0, 'ZPGA501': 10, 'DB': 7, 'AR501': 8}}, 'tme_musician_adtype': '0'}, {'musicrid': 'MUSIC_386829637', 'barrage': '0', 'ad_type': '', 'artist': '摩登兄弟刘宇宁', 'mvpayinfo': {'play': 0, 'vid': 0, 'down': 0}, 'trend': 'u0', 'pic': 'https://img4.kuwo.cn/star/albumcover/500/s3s26/62/119036660.jpg', 'isstar': 0, 'rid': 386829637, 'duration': 244, 'score100': '0', 'ad_subtype': '0', 'content_type': '0', 'rank_change': '4', 'track': 2, 'hasLossless': True, 'hasmv': 0, 'releaseDate': '2024-06-24', 'album': '心悠悠', 'albumid': 54532451, 'pay': '16515324', 'artistid': 2565589, 'albumpic': 'https://img4.kuwo.cn/star/albumcover/500/s3s26/62/119036660.jpg', 'originalsongtype': 0, 'songTimeMinutes': '04:04', 'isListenFee': False, 'pic120': 'https://img4.kuwo.cn/star/albumcover/120/s3s26/62/119036660.jpg', 'name': '心悠悠', 'online': 1, 'payInfo': {'play': '1100', 'nplay': '001111111111', 'overseas_nplay': '0', 'local_encrypt': '1', 'limitfree': 0, 'refrain_start': 0, 'feeType': {'song': '1', 'vip': '1'}, 'down': '1111', 'ndown': '111111111111', 'download': '1111', 'cannotDownload': 0, 'overseas_ndown': '0', 'refrain_end': 0, 'cannotOnlinePlay': 0, 'paytagindex': {'S': 2, 'F': 3, 'ZP': 6, 'H': 1, 'ZPGA201': 9, 'ZPLY': 11, 'HR': 4, 'L': 0, 'ZPGA501': 10, 'DB': 7, 'AR501': 8}}, 'tme_musician_adtype': '0'}, {'musicrid': 'MUSIC_386689758', 'barrage': '0', 'ad_type': '', 'artist': 'YELLOW黄宣', 'mvpayinfo': {'play': 0, 'vid': 0, 'down': 0}, 'trend': 'd0', 'pic': 'https://img2.kuwo.cn/star/albumcover/500/s3s88/76/2993208658.png', 'isstar': 0, 'rid': 386689758, 'duration': 268, 'score100': '0', 'ad_subtype': '0', 'content_type': '0', 'rank_change': '8', 'track': 5, 'hasLossless': True, 'hasmv': 0, 'releaseDate': '2024-06-22', 'album': '歌手2024 第7期', 'albumid': 54502037, 'pay': '16515324', 'artistid': 4426880, 'albumpic': 'https://img2.kuwo.cn/star/albumcover/500/s3s88/76/2993208658.png', 'originalsongtype': 0, 'songTimeMinutes': '04:28', 'isListenFee': False, 'pic120': 'https://img2.kuwo.cn/star/albumcover/120/s3s88/76/2993208658.png', 'name': 'Lemon Tree(Live)', 'online': 1, 'payInfo': {'play': '1100', 'nplay': '001111111111', 'overseas_nplay': '0', 'local_encrypt': '1', 'limitfree': 0, 'refrain_start': 0, 'feeType': {'song': '1', 'vip': '1'}, 'down': '1111', 'ndown': '111111111111', 'download': '1111', 'cannotDownload': 0, 'overseas_ndown': '0', 'refrain_end': 0, 'cannotOnlinePlay': 0, 'paytagindex': {'S': 2, 'F': 3, 'ZP': 6, 'H': 1, 'ZPGA201': 9, 'ZPLY': 11, 'HR': 4, 'L': 0, 'ZPGA501': 10, 'DB': 7, 'AR501': 8}}, 'tme_musician_adtype': '0'}, {'musicrid': 'MUSIC_386324081', 'barrage': '0', 'ad_type': '', 'artist': '小阿七', 'mvpayinfo': {'play': 0, 'vid': 0, 'down': 0}, 'trend': 'u0', 'pic': 'https://img4.kuwo.cn/star/albumcover/500/s3s58/67/715002650.png', 'isstar': 0, 'rid': 386324081, 'duration': 212, 'score100': '0', 'ad_subtype': '0', 'content_type': '0', 'rank_change': '9', 'track': 1, 'hasLossless': True, 'hasmv': 0, 'releaseDate': '2024-06-21', 'album': '攀山', 'albumid': 54432583, 'pay': '16515324', 'artistid': 3583695, 'albumpic': 'https://img4.kuwo.cn/star/albumcover/500/s3s58/67/715002650.png', 'originalsongtype': 1, 'songTimeMinutes': '03:32', 'isListenFee': False, 'pic120': 'https://img4.kuwo.cn/star/albumcover/120/s3s58/67/715002650.png', 'name': '攀山', 'online': 1, 'payInfo': {'play': '1100', 'nplay': '001111111111', 'overseas_nplay': '0', 'local_encrypt': '1', 'limitfree': 0, 'refrain_start': 0, 'feeType': {'song': '1', 'vip': '1'}, 'down': '1111', 'ndown': '111111111111', 'download': '1111', 'cannotDownload': 0, 'overseas_ndown': '0', 'refrain_end': 0, 'cannotOnlinePlay': 0, 'paytagindex': {'S': 2, 'F': 3, 'ZP': 6, 'H': 1, 'ZPGA201': 9, 'ZPLY': 11, 'HR': 4, 'L': 0, 'ZPGA501': 10, 'DB': 7, 'AR501': 8}}, 'tme_musician_adtype': '0'}, {'musicrid': 'MUSIC_385793719', 'barrage': '0', 'ad_type': '', 'artist': '小阿枫', 'mvpayinfo': {'play': 0, 'vid': 0, 'down': 0}, 'trend': 'u0', 'pic': 'https://img1.kuwo.cn/star/albumcover/500/s3s84/80/3170448129.jpg', 'isstar': 0, 'rid': 385793719, 'duration': 268, 'score100': '0', 'ad_subtype': '0', 'content_type': '0', 'rank_change': '11', 'track': 1, 'hasLossless': True, 'hasmv': 0, 'releaseDate': '2024-06-19', 'album': '看云开', 'albumid': 54327652, 'pay': '16515324', 'artistid': 2535202, 'albumpic': 'https://img1.kuwo.cn/star/albumcover/500/s3s84/80/3170448129.jpg', 'originalsongtype': 1, 'songTimeMinutes': '04:28', 'isListenFee': False, 'pic120': 'https://img1.kuwo.cn/star/albumcover/120/s3s84/80/3170448129.jpg', 'name': '看云开 (等你熬过了所有的苦)', 'online': 1, 'payInfo': {'play': '1100', 'nplay': '001111111111', 'overseas_nplay': '0', 'local_encrypt': '1', 'limitfree': 0, 'refrain_start': 0, 'feeType': {'song': '1', 'vip': '1'}, 'down': '1111', 'ndown': '111111111111', 'download': '1111', 'cannotDownload': 0, 'overseas_ndown': '0', 'refrain_end': 0, 'cannotOnlinePlay': 0, 'paytagindex': {'S': 2, 'F': 3, 'ZP': 6, 'H': 1, 'ZPGA201': 9, 'ZPLY': 11, 'HR': 4, 'L': 0, 'ZPGA501': 10, 'DB': 7, 'AR501': 8}}, 'tme_musician_adtype': '0'}, {'musicrid': 'MUSIC_383627334', 'barrage': '0', 'ad_type': '', 'artist': '魏佳艺', 'mvpayinfo': {'play': 0, 'vid': 0, 'down': 0}, 'trend': 'u0', 'pic': 'https://img4.kuwo.cn/star/albumcover/500/s3s47/63/370558537.jpg', 'isstar': 0, 'rid': 383627334, 'duration': 202, 'score100': '0', 'ad_subtype': '0', 'content_type': '0', 'rank_change': '8', 'track': 2, 'hasLossless': True, 'hasmv': 0, 'releaseDate': '2024-06-07', 'album': '我这一生吃过太多苦（女烟嗓版）', 'albumid': 53682547, 'pay': '16515324', 'artistid': 4543, 'albumpic': 'https://img4.kuwo.cn/star/albumcover/500/s3s47/63/370558537.jpg', 'originalsongtype': 0, 'songTimeMinutes': '03:22', 'isListenFee': False, 'pic120': 'https://img4.kuwo.cn/star/albumcover/120/s3s47/63/370558537.jpg', 'name': '我这一生吃过太多苦(DJ何友版)', 'online': 1, 'payInfo': {'play': '1100', 'nplay': '001111111111', 'overseas_nplay': '0', 'local_encrypt': '1', 'limitfree': 0, 'refrain_start': 0, 'feeType': {'song': '1', 'vip': '1'}, 'down': '1111', 'ndown': '111111111111', 'download': '1111', 'cannotDownload': 0, 'overseas_ndown': '0', 'refrain_end': 0, 'cannotOnlinePlay': 0, 'paytagindex': {'S': 2, 'F': 3, 'ZP': 6, 'H': 1, 'ZPGA201': 9, 'ZPLY': 11, 'HR': 4, 'L': 0, 'ZPGA501': 10, 'DB': 7, 'AR501': 8}}, 'tme_musician_adtype': '0'}, {'musicrid': 'MUSIC_386690563', 'barrage': '0', 'ad_type': '', 'artist': 'Chanté Moore', 'mvpayinfo': {'play': 0, 'vid': 0, 'down': 0}, 'trend': 'd0', 'pic': 'https://img2.kuwo.cn/star/albumcover/500/s3s88/76/2993208658.png', 'isstar': 0, 'rid': 386690563, 'duration': 203, 'score100': '0', 'ad_subtype': '0', 'content_type': '0', 'rank_change': '10', 'track': 7, 'hasLossless': True, 'hasmv': 0, 'releaseDate': '2024-06-22', 'album': '歌手2024 第7期', 'albumid': 54502037, 'pay': '16515324', 'artistid': 3863, 'albumpic': 'https://img2.kuwo.cn/star/albumcover/500/s3s88/76/2993208658.png', 'originalsongtype': 0, 'songTimeMinutes': '03:23', 'isListenFee': False, 'pic120': 'https://img2.kuwo.cn/star/albumcover/120/s3s88/76/2993208658.png', 'name': 'Never Enough(Live)', 'online': 1, 'payInfo': {'play': '1100', 'nplay': '001111111111', 'overseas_nplay': '0', 'local_encrypt': '1', 'limitfree': 0, 'refrain_start': 0, 'feeType': {'song': '1', 'vip': '1'}, 'down': '1111', 'ndown': '111111111111', 'download': '1111', 'cannotDownload': 0, 'overseas_ndown': '0', 'refrain_end': 0, 'cannotOnlinePlay': 0, 'paytagindex': {'S': 2, 'F': 3, 'ZP': 6, 'H': 1, 'ZPGA201': 9, 'ZPLY': 11, 'HR': 4, 'L': 0, 'ZPGA501': 10, 'DB': 7, 'AR501': 8}}, 'tme_musician_adtype': '0'}, {'musicrid': 'MUSIC_386687447', 'barrage': '0', 'ad_type': '', 'artist': '那英', 'mvpayinfo': {'play': 0, 'vid': 0, 'down': 0}, 'trend': 'd0', 'pic': 'https://img2.kuwo.cn/star/albumcover/500/s3s88/76/2993208658.png', 'isstar': 0, 'rid': 386687447, 'duration': 283, 'score100': '0', 'ad_subtype': '0', 'content_type': '0', 'rank_change': '6', 'track': 1, 'hasLossless': True, 'hasmv': 0, 'releaseDate': '2024-06-22', 'album': '歌手2024 第7期', 'albumid': 54502037, 'pay': '16515324', 'artistid': 868, 'albumpic': 'https://img2.kuwo.cn/star/albumcover/500/s3s88/76/2993208658.png', 'originalsongtype': 0, 'songTimeMinutes': '04:43', 'isListenFee': False, 'pic120': 'https://img2.kuwo.cn/star/albumcover/120/s3s88/76/2993208658.png', 'name': '突然想念(Live)', 'online': 1, 'payInfo': {'play': '1100', 'nplay': '001111111111', 'overseas_nplay': '0', 'local_encrypt': '1', 'limitfree': 0, 'refrain_start': 0, 'feeType': {'song': '1', 'vip': '1'}, 'down': '1111', 'ndown': '111111111111', 'download': '1111', 'cannotDownload': 0, 'overseas_ndown': '0', 'refrain_end': 0, 'cannotOnlinePlay': 0, 'paytagindex': {'S': 2, 'F': 3, 'ZP': 6, 'H': 1, 'ZPGA201': 9, 'ZPLY': 11, 'HR': 4, 'L': 0, 'ZPGA501': 10, 'DB': 7, 'AR501': 8}}, 'tme_musician_adtype': '0'}]}, 'msg': 'success', 'profileId': 'site', 'reqId': '5ddc63179db4445cea87926b95f19c9b', 'tId': 'Ignored_Trace'}\n"
     ]
    }
   ],
   "source": [
    "response = requests.get(url,headers=headers)\n",
    "print(response.json())\n",
    "s1=response.json()\n",
    "#获取网页json代码"
   ]
  },
  {
   "cell_type": "code",
   "execution_count": 17,
   "id": "4ab5be66-56d8-4eb2-94bd-8cca08fa09c6",
   "metadata": {},
   "outputs": [],
   "source": [
    "data_list  = s1['data']['musicList']"
   ]
  },
  {
   "cell_type": "code",
   "execution_count": 19,
   "id": "f81c6a71-d1da-483d-b8ec-38fb75632b03",
   "metadata": {},
   "outputs": [
    {
     "name": "stdout",
     "output_type": "stream",
     "text": [
      "                 name  artist\n",
      "0           战马(DJ九零版)     崔伟立\n",
      "1             云边有个小卖部     张靓颖\n",
      "2  做自己的光，不需要太亮(DJ九零版)     刘亦辰\n",
      "3                人间半途     李耀阳\n",
      "4            说谎(Live)      张远\n",
      "5               我会好好的    半吨兄弟\n",
      "6            傻瓜(Live)     汪苏泷\n",
      "7                光辉岁月  Beyond\n",
      "8                  偷心     张学友\n",
      "9                不再犹豫  Beyond\n"
     ]
    }
   ],
   "source": [
    "import pandas as pd\n",
    "\n",
    "# 假设您已经从 data_list 中提取了 songTimeMinutes、artist 和 name 数据\n",
    "data = []\n",
    "\n",
    "for i in data_list:\n",
    "    name = i['name']\n",
    "    artist = i['artist']\n",
    "\n",
    "    data.append([name,artist])\n",
    "\n",
    "# 创建 DataFrame\n",
    "df = pd.DataFrame(data, columns=['name', 'artist'])\n",
    "\n",
    "# 打印 DataFrame\n",
    "print(df.head(10))"
   ]
  },
  {
   "cell_type": "code",
   "execution_count": 20,
   "id": "df524d97-6669-4da7-a231-16703ae8c09c",
   "metadata": {},
   "outputs": [
    {
     "name": "stdout",
     "output_type": "stream",
     "text": [
      "    rank                name        artist\n",
      "0      1           战马(DJ九零版)           崔伟立\n",
      "1      2             云边有个小卖部           张靓颖\n",
      "2      3  做自己的光，不需要太亮(DJ九零版)           刘亦辰\n",
      "3      4                人间半途           李耀阳\n",
      "4      5            说谎(Live)            张远\n",
      "5      6               我会好好的          半吨兄弟\n",
      "6      7            傻瓜(Live)           汪苏泷\n",
      "7      8                光辉岁月        Beyond\n",
      "8      9                  偷心           张学友\n",
      "9     10                不再犹豫        Beyond\n",
      "10    11                  蜉蝣           马嘉祺\n",
      "11    12      何物 (我白天是个搞笑废物)          半吨兄弟\n",
      "12    13            关于我你只字不提           黄静美\n",
      "13    14                 心悠悠       摩登兄弟刘宇宁\n",
      "14    15    Lemon Tree(Live)      YELLOW黄宣\n",
      "15    16                  攀山           小阿七\n",
      "16    17     看云开 (等你熬过了所有的苦)           小阿枫\n",
      "17    18    我这一生吃过太多苦(DJ何友版)           魏佳艺\n",
      "18    19  Never Enough(Live)  Chanté Moore\n",
      "19    20          突然想念(Live)            那英\n"
     ]
    }
   ],
   "source": [
    "df.index.name = 'rank'\n",
    "\n",
    "# 重新排列索引，从1开始\n",
    "df.reset_index(inplace=True)\n",
    "df['rank'] = df['rank'] + 1  # 从1开始计数\n",
    "\n",
    "# 打印 DataFrame\n",
    "print(df)"
   ]
  }
 ],
 "metadata": {
  "kernelspec": {
   "display_name": "Python 3 (ipykernel)",
   "language": "python",
   "name": "python3"
  },
  "language_info": {
   "codemirror_mode": {
    "name": "ipython",
    "version": 3
   },
   "file_extension": ".py",
   "mimetype": "text/x-python",
   "name": "python",
   "nbconvert_exporter": "python",
   "pygments_lexer": "ipython3",
   "version": "3.11.7"
  }
 },
 "nbformat": 4,
 "nbformat_minor": 5
}
