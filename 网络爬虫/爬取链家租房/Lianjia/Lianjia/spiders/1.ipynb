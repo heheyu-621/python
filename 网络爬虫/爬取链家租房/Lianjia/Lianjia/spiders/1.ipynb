{
 "cells": [
  {
   "cell_type": "code",
   "execution_count": 6,
   "id": "3c6d756e-ae75-4681-a843-538ec583206b",
   "metadata": {},
   "outputs": [
    {
     "ename": "AttributeError",
     "evalue": "'float' object has no attribute 'plot'",
     "output_type": "error",
     "traceback": [
      "\u001b[0;31m---------------------------------------------------------------------------\u001b[0m",
      "\u001b[0;31mAttributeError\u001b[0m                            Traceback (most recent call last)",
      "Cell \u001b[0;32mIn[6], line 20\u001b[0m\n\u001b[1;32m     18\u001b[0m fig, ax \u001b[38;5;241m=\u001b[39m plt\u001b[38;5;241m.\u001b[39msubplots()\n\u001b[1;32m     19\u001b[0m \u001b[38;5;28;01mfor\u001b[39;00m i, (county, data) \u001b[38;5;129;01min\u001b[39;00m \u001b[38;5;28menumerate\u001b[39m(avg_price_by_county\u001b[38;5;241m.\u001b[39mitems()):\n\u001b[0;32m---> 20\u001b[0m     data\u001b[38;5;241m.\u001b[39mplot(kind\u001b[38;5;241m=\u001b[39m\u001b[38;5;124m'\u001b[39m\u001b[38;5;124mbar\u001b[39m\u001b[38;5;124m'\u001b[39m, color\u001b[38;5;241m=\u001b[39m[colors[j] \u001b[38;5;28;01mfor\u001b[39;00m j \u001b[38;5;129;01min\u001b[39;00m \u001b[38;5;28mrange\u001b[39m(\u001b[38;5;28mlen\u001b[39m(house_type_count\u001b[38;5;241m.\u001b[39mcolumns))], ax\u001b[38;5;241m=\u001b[39max, position\u001b[38;5;241m=\u001b[39mi, width\u001b[38;5;241m=\u001b[39m\u001b[38;5;241m0.2\u001b[39m,\n\u001b[1;32m     21\u001b[0m               legend\u001b[38;5;241m=\u001b[39m\u001b[38;5;28;01mTrue\u001b[39;00m)\n\u001b[1;32m     22\u001b[0m ax\u001b[38;5;241m.\u001b[39mlegend(title\u001b[38;5;241m=\u001b[39m\u001b[38;5;124m'\u001b[39m\u001b[38;5;124m房子类型\u001b[39m\u001b[38;5;124m'\u001b[39m, bbox_to_anchor\u001b[38;5;241m=\u001b[39m(\u001b[38;5;241m1\u001b[39m, \u001b[38;5;241m1\u001b[39m))\n\u001b[1;32m     23\u001b[0m plt\u001b[38;5;241m.\u001b[39mxlabel(\u001b[38;5;124m'\u001b[39m\u001b[38;5;124m所在区县\u001b[39m\u001b[38;5;124m'\u001b[39m)\n",
      "\u001b[0;31mAttributeError\u001b[0m: 'float' object has no attribute 'plot'"
     ]
    },
    {
     "data": {
      "image/png": "[encoded data removed]",
      "text/plain": [
       "<Figure size 640x480 with 1 Axes>"
      ]
     },
     "metadata": {},
     "output_type": "display_data"
    }
   ],
   "source": [
    "import pandas as pd\n",
    "import matplotlib.pyplot as plt\n",
    "\n",
    "# 从CSV文件中读取数据\n",
    "df = pd.read_csv('your_file.csv')\n",
    "\n",
    "# 将价格列转换为数字\n",
    "df['价格'] = pd.to_numeric(df['价格'], errors='coerce')\n",
    "\n",
    "# 统计每个区县的房租均价\n",
    "avg_price_by_county = df.groupby('所在区县')['价格'].mean()\n",
    "\n",
    "# 统计每个区县中不同房子类型的数量\n",
    "house_type_count = df.groupby('所在区县')['房子类型'].value_counts().unstack().fillna(0)\n",
    "\n",
    "# 绘制柱状图\n",
    "colors = plt.cm.tab20c.colors  # 颜色列表\n",
    "fig, ax = plt.subplots()\n",
    "for i, (county, data) in enumerate(avg_price_by_county.items()):\n",
    "    data.plot(kind='bar', color=colors, ax=ax, position=i, width=0.2, legend=True)\n",
    "ax.legend(title='所在区县', bbox_to_anchor=(1, 1))  # 设置图例\n",
    "plt.xlabel('房子类型')\n",
    "plt.ylabel('数量')\n",
    "plt.title('各区县房子类型数量对比')\n",
    "plt.xticks(range(len(house_type_count.columns)), house_type_count.columns)  # 设置X轴刻度\n",
    "plt.tight_layout()\n",
    "plt.show()"
   ]
  },
  {
   "cell_type": "code",
   "execution_count": null,
   "id": "c30031b5-9349-4c3c-9a86-6c8df8a2c3a3",
   "metadata": {},
   "outputs": [],
   "source": []
  }
 ],
 "metadata": {
  "kernelspec": {
   "display_name": "Python 3 (ipykernel)",
   "language": "python",
   "name": "python3"
  },
  "language_info": {
   "codemirror_mode": {
    "name": "ipython",
    "version": 3
   },
   "file_extension": ".py",
   "mimetype": "text/x-python",
   "name": "python",
   "nbconvert_exporter": "python",
   "pygments_lexer": "ipython3",
   "version": "3.11.7"
  }
 },
 "nbformat": 4,
 "nbformat_minor": 5
}
