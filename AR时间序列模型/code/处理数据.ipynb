{
 "cells": [
  {
   "cell_type": "code",
   "execution_count": 1,
   "id": "4c1a27df-f396-492b-b13a-4c273545e1b1",
   "metadata": {},
   "outputs": [
    {
     "name": "stdout",
     "output_type": "stream",
     "text": [
      "[datetime.datetime(2024, 5, 1, 0, 0), datetime.datetime(2024, 5, 2, 0, 0), datetime.datetime(2024, 5, 3, 0, 0), datetime.datetime(2024, 5, 4, 0, 0), datetime.datetime(2024, 5, 5, 0, 0), datetime.datetime(2024, 5, 6, 0, 0), datetime.datetime(2024, 5, 7, 0, 0), datetime.datetime(2024, 5, 8, 0, 0), datetime.datetime(2024, 5, 9, 0, 0), datetime.datetime(2024, 5, 10, 0, 0), datetime.datetime(2024, 5, 11, 0, 0), datetime.datetime(2024, 5, 12, 0, 0), datetime.datetime(2024, 5, 13, 0, 0), datetime.datetime(2024, 5, 14, 0, 0), datetime.datetime(2024, 5, 15, 0, 0), datetime.datetime(2024, 5, 16, 0, 0), datetime.datetime(2024, 5, 17, 0, 0), datetime.datetime(2024, 5, 18, 0, 0), datetime.datetime(2024, 5, 19, 0, 0), datetime.datetime(2024, 5, 20, 0, 0), datetime.datetime(2024, 5, 21, 0, 0), datetime.datetime(2024, 5, 22, 0, 0), datetime.datetime(2024, 5, 23, 0, 0), datetime.datetime(2024, 5, 24, 0, 0), datetime.datetime(2024, 5, 25, 0, 0), datetime.datetime(2024, 5, 26, 0, 0), datetime.datetime(2024, 5, 27, 0, 0), datetime.datetime(2024, 5, 28, 0, 0), datetime.datetime(2024, 5, 29, 0, 0), datetime.datetime(2024, 5, 30, 0, 0), datetime.datetime(2024, 5, 31, 0, 0)]\n"
     ]
    }
   ],
   "source": [
    "hightemp = [19,22,25,23,29,33,26,29,26,27,30,30,22,27,30,27,30,30,29,24,22,22,22,30,29,32,29,27,29,28,33]"
   ]
  },
  {
   "cell_type": "code",
   "execution_count": 2,
   "id": "686bf2d2-1d64-4b99-987a-814eb0d72e72",
   "metadata": {},
   "outputs": [],
   "source": [
    "hightemp = [19,22,25,23,29,33,26,29,26,27,30,30,22,27,30,27,30,30,29,24,22,22,22,30,29,32,29,27,29,28,33]\n",
    "date_range = ['2024-05-{:02d}'.format(d) for d in range(1, 32)]\n",
    "combined_list = list(zip(date_range, hightemp))"
   ]
  },
  {
   "cell_type": "code",
   "execution_count": 3,
   "id": "a686bbce-cb84-4e8a-8473-25c085fa0cac",
   "metadata": {},
   "outputs": [
    {
     "data": {
      "text/plain": [
       "[('2024-05-01', 19),\n",
       " ('2024-05-02', 22),\n",
       " ('2024-05-03', 25),\n",
       " ('2024-05-04', 23),\n",
       " ('2024-05-05', 29),\n",
       " ('2024-05-06', 33),\n",
       " ('2024-05-07', 26),\n",
       " ('2024-05-08', 29),\n",
       " ('2024-05-09', 26),\n",
       " ('2024-05-10', 27),\n",
       " ('2024-05-11', 30),\n",
       " ('2024-05-12', 30),\n",
       " ('2024-05-13', 22),\n",
       " ('2024-05-14', 27),\n",
       " ('2024-05-15', 30),\n",
       " ('2024-05-16', 27),\n",
       " ('2024-05-17', 30),\n",
       " ('2024-05-18', 30),\n",
       " ('2024-05-19', 29),\n",
       " ('2024-05-20', 24),\n",
       " ('2024-05-21', 22),\n",
       " ('2024-05-22', 22),\n",
       " ('2024-05-23', 22),\n",
       " ('2024-05-24', 30),\n",
       " ('2024-05-25', 29),\n",
       " ('2024-05-26', 32),\n",
       " ('2024-05-27', 29),\n",
       " ('2024-05-28', 27),\n",
       " ('2024-05-29', 29),\n",
       " ('2024-05-30', 28),\n",
       " ('2024-05-31', 33)]"
      ]
     },
     "execution_count": 3,
     "metadata": {},
     "output_type": "execute_result"
    }
   ],
   "source": [
    "combined_list"
   ]
  },
  {
   "cell_type": "code",
   "execution_count": 6,
   "id": "12ca6de3-863c-45b6-851c-7381cbd6e5bb",
   "metadata": {},
   "outputs": [
    {
     "name": "stdout",
     "output_type": "stream",
     "text": [
      "CSV 文件已保存为 'qiwen.csv'\n"
     ]
    }
   ],
   "source": [
    "import csv\n",
    "with open('qiwen.csv', mode='w', newline='') as file:\n",
    "    writer = csv.writer(file)\n",
    "    writer.writerow(['日期', '最高气温'])\n",
    "    for data in combined_list:\n",
    "        writer.writerow(data)\n",
    "\n",
    "print(\"CSV 文件已保存为 'qiwen.csv'\")"
   ]
  },
  {
   "cell_type": "code",
   "execution_count": null,
   "id": "1e54aefe-3a5b-473d-8e35-c7558edc8655",
   "metadata": {},
   "outputs": [],
   "source": []
  }
 ],
 "metadata": {
  "kernelspec": {
   "display_name": "Python 3 (ipykernel)",
   "language": "python",
   "name": "python3"
  },
  "language_info": {
   "codemirror_mode": {
    "name": "ipython",
    "version": 3
   },
   "file_extension": ".py",
   "mimetype": "text/x-python",
   "name": "python",
   "nbconvert_exporter": "python",
   "pygments_lexer": "ipython3",
   "version": "3.11.7"
  }
 },
 "nbformat": 4,
 "nbformat_minor": 5
}
