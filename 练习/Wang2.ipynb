{
 "cells": [
  {
   "cell_type": "code",
   "execution_count": 2,
   "id": "27082b88-d3f9-4827-b984-e5effd2c7bcd",
   "metadata": {},
   "outputs": [],
   "source": [
    "import requests\n",
    "import os\n",
    "import re\n",
    "import time"
   ]
  },
  {
   "cell_type": "code",
   "execution_count": 4,
   "id": "dd65d471-e4da-49a8-8132-f5b4bc0a3718",
   "metadata": {},
   "outputs": [],
   "source": [
    "def Picture_Download(url_img_path,img_title):\n",
    "    file_name = img_title.replace('/','').strip()\n",
    "    try:\n",
    "        result = requests.get(url_img_path.strip())\n",
    "    except:\n",
    "        print(url_img_path,'Download failed')\n",
    "    else:\n",
    "        if result.status_code == 200:\n",
    "            File = open(file_name + '.jpg','wb')\n",
    "            File.write(result.content)\n",
    "            File.close()"
   ]
  },
  {
   "cell_type": "code",
   "execution_count": 5,
   "id": "ff9dbb78-b163-480f-bafc-d4bba6e8a906",
   "metadata": {},
   "outputs": [],
   "source": [
    "def Img_Url(url):\n",
    "    result = requests.get(url)\n",
    "    result.encoding = 'gbk'\n",
    "    compile = re.compile(r'<img src = \"(.*?)\" alt = \"(.*?)\" />')\n",
    "\n",
    "    all = compile.findall(result.text)\n",
    "    for item in all:\n",
    "        print(item[0],item[1])\n",
    "        Picture_Download(item[0],item[1])"
   ]
  },
  {
   "cell_type": "code",
   "execution_count": null,
   "id": "aae31b32-915a-4a6f-90d0-5120cde86947",
   "metadata": {},
   "outputs": [],
   "source": [
    "def main():\n",
    "    for i in range(1,74):\n",
    "        if i == 1:\n",
    "            Img_Url(r'http://www.netbian.com/weimei/index.htm')\n",
    "        else:\n",
    "            Img_Url(r'http://www.netbian.com/weimei/index_%d.htm' % i)\n",
    "            time.sleep(2)\n",
    "if __name__ == '__main__':\n",
    "    main()"
   ]
  },
  {
   "cell_type": "code",
   "execution_count": null,
   "id": "63be2987-b51f-4dd0-bcdd-aee5876bbf1c",
   "metadata": {},
   "outputs": [],
   "source": []
  }
 ],
 "metadata": {
  "kernelspec": {
   "display_name": "Python 3 (ipykernel)",
   "language": "python",
   "name": "python3"
  },
  "language_info": {
   "codemirror_mode": {
    "name": "ipython",
    "version": 3
   },
   "file_extension": ".py",
   "mimetype": "text/x-python",
   "name": "python",
   "nbconvert_exporter": "python",
   "pygments_lexer": "ipython3",
   "version": "3.11.7"
  }
 },
 "nbformat": 4,
 "nbformat_minor": 5
}
