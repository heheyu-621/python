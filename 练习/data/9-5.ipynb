{
 "cells": [
  {
   "cell_type": "code",
   "execution_count": 1,
   "id": "44ad9aba-f65f-45a3-8389-a1d03eae1487",
   "metadata": {},
   "outputs": [],
   "source": [
    "import numpy as np\n",
    "import pandas as pd\n",
    "from mlxtend.frequent_patterns import apriori , association_rules"
   ]
  },
  {
   "cell_type": "code",
   "execution_count": 2,
   "id": "7de60ced-436d-4ba6-8319-e819d742c57e",
   "metadata": {},
   "outputs": [],
   "source": [
    "inputfile = 'Online_Retail.xlsx'\n",
    "data = pd.read_excel(inputfile)"
   ]
  },
  {
   "cell_type": "code",
   "execution_count": 3,
   "id": "cdd80c06-b341-4f59-a237-d5842938f72c",
   "metadata": {},
   "outputs": [
    {
     "name": "stdout",
     "output_type": "stream",
     "text": [
      "<class 'pandas.core.frame.DataFrame'>\n",
      "RangeIndex: 10538 entries, 0 to 10537\n",
      "Data columns (total 8 columns):\n",
      " #   Column       Non-Null Count  Dtype         \n",
      "---  ------       --------------  -----         \n",
      " 0   InvoiceNo    10538 non-null  object        \n",
      " 1   StockCode    10538 non-null  object        \n",
      " 2   Description  10538 non-null  object        \n",
      " 3   Quantity     10538 non-null  int64         \n",
      " 4   InvoiceDate  10538 non-null  datetime64[ns]\n",
      " 5   UnitPrice    10538 non-null  float64       \n",
      " 6   CustomerID   10433 non-null  float64       \n",
      " 7   Country      10538 non-null  object        \n",
      "dtypes: datetime64[ns](1), float64(2), int64(1), object(4)\n",
      "memory usage: 658.8+ KB\n",
      "不同国家名称: \n",
      " ['France' 'Portugal' 'Sweden']\n"
     ]
    }
   ],
   "source": [
    "data.info()\n",
    "print('不同国家名称: \\n',data.Country.unique())"
   ]
  },
  {
   "cell_type": "code",
   "execution_count": 4,
   "id": "8ada5c6d-d95b-4f74-8ba1-3be723baf521",
   "metadata": {},
   "outputs": [],
   "source": [
    "data['Description'] = data['Description'].str.strip()\n",
    "data.dropna(axis = 0,subset = ['CustomerID'],inplace = True)\n",
    "data['InvoiceNo'] = data['InvoiceNo'].astype('str')\n",
    "data = data[~data['InvoiceNo'].str.contains('C')]"
   ]
  },
  {
   "cell_type": "code",
   "execution_count": null,
   "id": "0232c1af-630c-4555-b61d-a5bbc7b8fa34",
   "metadata": {},
   "outputs": [],
   "source": [
    "basket_France = (data[data['Country'] == 'France'].groupby(['']))"
   ]
  }
 ],
 "metadata": {
  "kernelspec": {
   "display_name": "Python 3 (ipykernel)",
   "language": "python",
   "name": "python3"
  },
  "language_info": {
   "codemirror_mode": {
    "name": "ipython",
    "version": 3
   },
   "file_extension": ".py",
   "mimetype": "text/x-python",
   "name": "python",
   "nbconvert_exporter": "python",
   "pygments_lexer": "ipython3",
   "version": "3.11.7"
  }
 },
 "nbformat": 4,
 "nbformat_minor": 5
}
