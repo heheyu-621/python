{
 "cells": [
  {
   "cell_type": "code",
   "execution_count": 3,
   "id": "855ea13d-1a3c-4065-bba1-177233aec6d9",
   "metadata": {},
   "outputs": [],
   "source": [
    "import pandas as pd\n",
    "from sklearn.preprocessing import OneHotEncoder,LabelEncoder"
   ]
  },
  {
   "cell_type": "code",
   "execution_count": 9,
   "id": "267e9986-b3fb-4b4b-ad1e-5d8173378566",
   "metadata": {},
   "outputs": [
    {
     "name": "stdout",
     "output_type": "stream",
     "text": [
      "独热编码的结果为：\n",
      "[[1. 0. 0.]\n",
      " [0. 0. 1.]\n",
      " [0. 1. 0.]\n",
      " [1. 0. 0.]]\n",
      "哑变量的结果为：\n",
      "   天气_晴天  天气_阴天  天气_雨天\n",
      "0   True  False  False\n",
      "1  False  False   True\n",
      "2  False   True  False\n",
      "3   True  False  False\n",
      "标签编码的结果为：\n",
      "[0 2 1 0]\n"
     ]
    },
    {
     "name": "stderr",
     "output_type": "stream",
     "text": [
      "/home/acer/anaconda3/lib/python3.11/site-packages/sklearn/preprocessing/_encoders.py:868: FutureWarning: `sparse` was renamed to `sparse_output` in version 1.2 and will be removed in 1.4. `sparse_output` is ignored unless you leave `sparse` to its default value.\n",
      "  warnings.warn(\n",
      "/home/acer/anaconda3/lib/python3.11/site-packages/sklearn/preprocessing/_label.py:116: DataConversionWarning: A column-vector y was passed when a 1d array was expected. Please change the shape of y to (n_samples, ), for example using ravel().\n",
      "  y = column_or_1d(y, warn=True)\n"
     ]
    }
   ],
   "source": [
    "#原始数据\n",
    "weather_df = pd.DataFrame({'天气': ['晴天', '雨天', '阴天', '晴天'], '销量': [400, 50, 100, 450]})\n",
    "#独热编码\n",
    "oneHot_weather = OneHotEncoder(sparse = False).fit_transform(weather_df[[\"天气\"]])\n",
    "print('独热编码的结果为：')\n",
    "print(oneHot_weather)\n",
    "\n",
    "#哑变量编码\n",
    "dummy_weather = pd.get_dummies(weather_df[[\"天气\"]], drop_first = False)\n",
    "print('哑变量的结果为：')\n",
    "print(dummy_weather)\n",
    "#标签编码\n",
    "label_weather = LabelEncoder().fit_transform(weather_df[[\"天气\"]])\n",
    "print('标签编码的结果为：')\n",
    "print(label_weather)"
   ]
  },
  {
   "cell_type": "code",
   "execution_count": null,
   "id": "43630f49-c326-4203-b6c8-027bcfc1bcca",
   "metadata": {},
   "outputs": [],
   "source": []
  }
 ],
 "metadata": {
  "kernelspec": {
   "display_name": "Python 3 (ipykernel)",
   "language": "python",
   "name": "python3"
  },
  "language_info": {
   "codemirror_mode": {
    "name": "ipython",
    "version": 3
   },
   "file_extension": ".py",
   "mimetype": "text/x-python",
   "name": "python",
   "nbconvert_exporter": "python",
   "pygments_lexer": "ipython3",
   "version": "3.11.7"
  }
 },
 "nbformat": 4,
 "nbformat_minor": 5
}
